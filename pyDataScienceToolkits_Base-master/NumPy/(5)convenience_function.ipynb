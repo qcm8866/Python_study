{
 "cells": [
  {
   "cell_type": "markdown",
   "metadata": {},
   "source": [
    "##内容索引\n",
    "1. 相关性分析 --- cov函数、diagonal函数、trace函数、corrcoef函数\n",
    "2. 多项式拟合 --- polyfit函数、polyval函数、roots函数、polyder函数\n",
    "3. 计算净额成交量 --- sign函数、piecewise函数\n",
    "4. 模拟交易过程 --- vectorize函数、round函数\n",
    "5. 数据平滑 --- hanning函数"
   ]
  },
  {
   "cell_type": "code",
   "execution_count": 2,
   "metadata": {
    "collapsed": true
   },
   "outputs": [],
   "source": [
    "%matplotlib inline\n",
    "import numpy as np\n",
    "from matplotlib.pyplot import plot\n",
    "from matplotlib.pyplot import show"
   ]
  },
  {
   "cell_type": "markdown",
   "metadata": {},
   "source": [
    "##1. 股票相关性分析\n",
    "本例子中， 我们使用2个示例数据集提供收盘价数据，第一家公司是BHP Billiton(BHP)，其主要业务是石油、金属和钻石开采；第二家公司是Vale(VALE)，也是一家金属开采业公司，他们有部分业务是重合的。我们来分析一下他们的股票相关性。"
   ]
  },
  {
   "cell_type": "code",
   "execution_count": 3,
   "metadata": {
    "collapsed": false
   },
   "outputs": [],
   "source": [
    "# 首先读入两只股票的收盘价，并计算收益率\n",
    "bhp_cp = np.loadtxt('BHP.csv', delimiter=',', usecols=(6,), unpack=True)\n",
    "vale_cp = np.loadtxt('VALE.csv', delimiter=',', usecols=(6,), unpack=True)\n",
    "bhp_returns = np.diff(bhp_cp) / bhp_cp[:-1]\n",
    "vale_returns = np.diff(vale_cp) / vale_cp[:-1]"
   ]
  },
  {
   "cell_type": "markdown",
   "metadata": {},
   "source": [
    "协方差描述的是两个变量共同变化的趋势，其实就是归一化前的相关系数。\n",
    "使用cov函数计算**股票收益率的协方差矩阵**"
   ]
  },
  {
   "cell_type": "code",
   "execution_count": 4,
   "metadata": {
    "collapsed": false
   },
   "outputs": [
    {
     "name": "stdout",
     "output_type": "stream",
     "text": [
      "Covariance:\n",
      "[[ 0.00028179  0.00019766]\n",
      " [ 0.00019766  0.00030123]]\n"
     ]
    }
   ],
   "source": [
    "covariance = np.cov(bhp_returns, vale_returns)\n",
    "print 'Covariance:\\n', covariance"
   ]
  },
  {
   "cell_type": "code",
   "execution_count": 5,
   "metadata": {
    "collapsed": false
   },
   "outputs": [
    {
     "name": "stdout",
     "output_type": "stream",
     "text": [
      "Covariance diagonal:\n",
      "[ 0.00028179  0.00030123]\n",
      "Covariance trace:\n",
      "0.00058302354992\n",
      "Correlation coefficient:\n",
      "[[ 1.00173366  0.70264666]\n",
      " [ 0.70264666  1.0708476 ]]\n"
     ]
    }
   ],
   "source": [
    "# 查看协方差矩阵对角线的元素\n",
    "print 'Covariance diagonal:\\n', covariance.diagonal()\n",
    "# 计算矩阵的迹，即对角线之和\n",
    "print 'Covariance trace:\\n', covariance.trace()\n",
    "# 计算相关系数，相关系数是协方差除以各自标准差的乘积\n",
    "print 'Correlation coefficient:\\n', covariance / (bhp_returns.std() * vale_returns.std())"
   ]
  },
  {
   "cell_type": "markdown",
   "metadata": {},
   "source": [
    "用相关系数来度量两只股票的相关程度。相关系数的取值范围在-1到1之间，一组数据域自身的相关系数为1.使用corrcoef函数计算相关系数。"
   ]
  },
  {
   "cell_type": "code",
   "execution_count": 6,
   "metadata": {
    "collapsed": false
   },
   "outputs": [
    {
     "name": "stdout",
     "output_type": "stream",
     "text": [
      "Correlation coefficient:\n",
      "[[ 1.          0.67841747]\n",
      " [ 0.67841747  1.        ]]\n"
     ]
    }
   ],
   "source": [
    "# 使用corrcoef计算更加精确\n",
    "print 'Correlation coefficient:\\n', np.corrcoef(bhp_returns, vale_returns)"
   ]
  },
  {
   "cell_type": "markdown",
   "metadata": {},
   "source": [
    "相关系数矩阵关于对角线对称，BHP与VALE的相关系数等于VALE和BHP的相关系数。看起来0.68的相关系数表示他们的相关程度似乎不是很强。"
   ]
  },
  {
   "cell_type": "markdown",
   "metadata": {},
   "source": [
    "###判断两只股票的价格走势是否同步\n",
    "如果它们的差值偏离了平均差值2倍于标准差的距离，则认为他们走势不同步"
   ]
  },
  {
   "cell_type": "code",
   "execution_count": 7,
   "metadata": {
    "collapsed": false
   },
   "outputs": [
    {
     "name": "stdout",
     "output_type": "stream",
     "text": [
      "Out of sync :  False\n"
     ]
    }
   ],
   "source": [
    "difference = bhp_cp - vale_cp\n",
    "avg = np.mean(difference)\n",
    "dev = np.std(difference)\n",
    "# 检查最后一次收盘价是否在同步状态\n",
    "print \"Out of sync : \", np.abs(difference[-1] - avg) > 2*dev"
   ]
  },
  {
   "cell_type": "markdown",
   "metadata": {},
   "source": [
    "这说明，最后一次收盘价不再同步状态，我们暂时不能进行交易"
   ]
  },
  {
   "cell_type": "code",
   "execution_count": 8,
   "metadata": {
    "collapsed": false
   },
   "outputs": [
    {
     "data": {
      "image/png": "[encoded data removed]",
      "text/plain": [
       "<matplotlib.figure.Figure at 0x2c33f50>"
      ]
     },
     "metadata": {},
     "output_type": "display_data"
    }
   ],
   "source": [
    "# 绘制收益率曲线\n",
    "t = np.arange(len(bhp_returns))\n",
    "plot(t, bhp_returns, lw=1)\n",
    "plot(t, vale_returns, lw=2)\n",
    "show()"
   ]
  },
  {
   "cell_type": "markdown",
   "metadata": {},
   "source": [
    "##2. 多项式拟合\n",
    "NumPy中的plotfit函数可以用多项式去拟合一系列数据点，无论这些数据点是否来自连续函数都适用。"
   ]
  },
  {
   "cell_type": "code",
   "execution_count": 9,
   "metadata": {
    "collapsed": false
   },
   "outputs": [
    {
     "name": "stdout",
     "output_type": "stream",
     "text": [
      "Polynomial fit\n",
      "[  1.11655581e-03  -5.28581762e-02   5.80684638e-01   5.79791202e+01]\n"
     ]
    }
   ],
   "source": [
    "# 用三次多项式去拟合两只股票收盘价的差价\n",
    "t = np.arange(len(bhp_cp))\n",
    "poly = np.polyfit(t, bhp_cp-vale_cp, 3)\n",
    "print \"Polynomial fit\\n\", poly"
   ]
  },
  {
   "cell_type": "code",
   "execution_count": 10,
   "metadata": {
    "collapsed": false
   },
   "outputs": [
    {
     "name": "stdout",
     "output_type": "stream",
     "text": [
      "Next value:  57.9743076081\n"
     ]
    }
   ],
   "source": [
    "# 用刚才得到的多项式对象，推断下一个值\n",
    "print \"Next value: \", np.polyval(poly, t[-1]+1)"
   ]
  },
  {
   "cell_type": "markdown",
   "metadata": {},
   "source": [
    "理想情况下，BHP和VALE股票收盘价的差价越小越好。在极限情况下，差值可以在某个点为0。用roots函数找到拟合多项式函数在什么时候达到0。"
   ]
  },
  {
   "cell_type": "code",
   "execution_count": 11,
   "metadata": {
    "collapsed": false
   },
   "outputs": [
    {
     "name": "stdout",
     "output_type": "stream",
     "text": [
      "Roots:  [ 35.48624287+30.62717062j  35.48624287-30.62717062j -23.63210575 +0.j        ]\n"
     ]
    }
   ],
   "source": [
    "print \"Roots: \", np.roots(poly)"
   ]
  },
  {
   "cell_type": "markdown",
   "metadata": {},
   "source": [
    "###求极值"
   ]
  },
  {
   "cell_type": "code",
   "execution_count": 12,
   "metadata": {
    "collapsed": false
   },
   "outputs": [
    {
     "name": "stdout",
     "output_type": "stream",
     "text": [
      "Dervative:\n",
      "[ 0.00334967 -0.10571635  0.58068464]\n"
     ]
    }
   ],
   "source": [
    "# 极值位于导数为0的点\n",
    "der = np.polyder(poly)\n",
    "print \"Dervative:\\n\", der\n",
    "# 得到多项式导函数的系数"
   ]
  },
  {
   "cell_type": "code",
   "execution_count": 13,
   "metadata": {
    "collapsed": false
   },
   "outputs": [
    {
     "name": "stdout",
     "output_type": "stream",
     "text": [
      "Extremas:  [ 24.47820054   7.08205278]\n"
     ]
    }
   ],
   "source": [
    "# 求出导函数的根，即找出原多项式函数的极值点\n",
    "print \"Extremas: \", np.roots(der)"
   ]
  },
  {
   "cell_type": "code",
   "execution_count": 14,
   "metadata": {
    "collapsed": false
   },
   "outputs": [
    {
     "name": "stdout",
     "output_type": "stream",
     "text": [
      "Maximum index:  7\n",
      "Minimum index:  24\n"
     ]
    }
   ],
   "source": [
    "# 通过argmax和argmin函数找到最大最小值点来检查结果\n",
    "vals = np.polyval(poly, t)\n",
    "print \"Maximum index: \", np.argmax(vals)\n",
    "print \"Minimum index: \", np.argmin(vals)"
   ]
  },
  {
   "cell_type": "markdown",
   "metadata": {},
   "source": [
    "###绘制拟合曲线"
   ]
  },
  {
   "cell_type": "code",
   "execution_count": 15,
   "metadata": {
    "collapsed": false
   },
   "outputs": [
    {
     "data": {
      "image/png": "[encoded data removed]",
      "text/plain": [
       "<matplotlib.figure.Figure at 0x4dc48f0>"
      ]
     },
     "metadata": {},
     "output_type": "display_data"
    }
   ],
   "source": [
    "plot(t, bhp_cp-vale_cp)\n",
    "plot(t, vals)\n",
    "show()"
   ]
  },
  {
   "cell_type": "markdown",
   "metadata": {},
   "source": [
    "##3. 计算净额成交量\n",
    "成交量表示价格波动的大小，净额成交量（On-Balance Volume)是由当日收盘价、前一天的收盘价以及当日成交量计算得出的。\n",
    "\n",
    "以前一日为基期计算当日的OBV的值（可认为基期的OBV的值为0）。若当日收盘价高于前一日收盘价，则本日OBV等于基期OBV加上当日成交量，否则减去当日成交量。"
   ]
  },
  {
   "cell_type": "markdown",
   "metadata": {},
   "source": [
    "**我们需要在成交量前面乘上一个有收盘价变化决定的正负号。**"
   ]
  },
  {
   "cell_type": "code",
   "execution_count": 16,
   "metadata": {
    "collapsed": false
   },
   "outputs": [
    {
     "name": "stdout",
     "output_type": "stream",
     "text": [
      "Change: [ 1.92 -1.08 -1.26  0.63 -1.54 -0.28  0.25 -0.6   2.15  0.69 -1.33  1.16\n",
      "  1.59 -0.26 -1.29 -0.13 -2.12 -3.91  1.28 -0.57 -2.07 -2.07  2.5   1.18\n",
      "  1.03 -0.88  1.31  1.24 -0.59]\n"
     ]
    }
   ],
   "source": [
    "cp, volume = np.loadtxt('BHP.csv', delimiter=',', usecols=(6,7), unpack=True)\n",
    "change = np.diff(cp)\n",
    "print \"Change:\", change"
   ]
  },
  {
   "cell_type": "markdown",
   "metadata": {},
   "source": [
    "使用NumPy的sign函数返回每个元素的正负号。"
   ]
  },
  {
   "cell_type": "code",
   "execution_count": 17,
   "metadata": {
    "collapsed": false
   },
   "outputs": [
    {
     "name": "stdout",
     "output_type": "stream",
     "text": [
      "Signs:\n",
      "[ 1. -1. -1.  1. -1. -1.  1. -1.  1.  1. -1.  1.  1. -1. -1. -1. -1. -1.\n",
      "  1. -1. -1. -1.  1.  1.  1. -1.  1.  1. -1.]\n"
     ]
    }
   ],
   "source": [
    "signs = np.sign(change)\n",
    "print \"Signs:\\n\", signs"
   ]
  },
  {
   "cell_type": "markdown",
   "metadata": {},
   "source": [
    "使用Numpy的piecewise函数获取数组元素的正负。piecewise(分段)，可以根据给定取值，得到分段。"
   ]
  },
  {
   "cell_type": "code",
   "execution_count": 18,
   "metadata": {
    "collapsed": false
   },
   "outputs": [
    {
     "name": "stdout",
     "output_type": "stream",
     "text": [
      "Pieces:\n",
      "[ 1. -1. -1.  1. -1. -1.  1. -1.  1.  1. -1.  1.  1. -1. -1. -1. -1. -1.\n",
      "  1. -1. -1. -1.  1.  1.  1. -1.  1.  1. -1.]\n"
     ]
    }
   ],
   "source": [
    "pieces = np.piecewise(change, [change<0, change>0], [-1,1])\n",
    "print \"Pieces:\\n\", pieces"
   ]
  },
  {
   "cell_type": "code",
   "execution_count": 19,
   "metadata": {
    "collapsed": false
   },
   "outputs": [
    {
     "name": "stdout",
     "output_type": "stream",
     "text": [
      "Arrays equal? True\n"
     ]
    }
   ],
   "source": [
    "# 检查两次输出是否一致\n",
    "print \"Arrays equal?\", np.array_equal(signs, pieces)"
   ]
  },
  {
   "cell_type": "code",
   "execution_count": 20,
   "metadata": {
    "collapsed": false
   },
   "outputs": [
    {
     "name": "stdout",
     "output_type": "stream",
     "text": [
      "On balance volume: \n",
      "[ 2620800. -2461300. -3270900.  2650200. -4667300. -5359800.  7768400.\n",
      " -4799100.  3448300.  4719800. -3898900.  3727700.  3379400. -2463900.\n",
      " -3590900. -3805000. -3271700. -5507800.  2996800. -3434800. -5008300.\n",
      " -7809799.  3947100.  3809700.  3098200. -3500200.  4285600.  3918800.\n",
      " -3632200.]\n"
     ]
    }
   ],
   "source": [
    "# OBV值的计算依赖于前一日的收盘价\n",
    "print \"On balance volume: \\n\", volume[1:]*signs"
   ]
  },
  {
   "cell_type": "markdown",
   "metadata": {
    "collapsed": true
   },
   "source": [
    "##4. 模拟交易过程"
   ]
  },
  {
   "cell_type": "markdown",
   "metadata": {},
   "source": [
    "使用vectorize函数可以减少你的程序中使用循环的次数，NumPy中的vectorize函数相当于Python中的map函数。我们用它来计算单个交易日的利润。"
   ]
  },
  {
   "cell_type": "code",
   "execution_count": 21,
   "metadata": {
    "collapsed": true
   },
   "outputs": [],
   "source": [
    "# 读入数据\n",
    "# op is opening price,hp is the highest price\n",
    "# lp is the lowest price, cp is closing price\n",
    "op, hp, lp, cp = np.loadtxt('BHP.csv', delimiter=',', usecols=(3,4,5,6), unpack=True)"
   ]
  },
  {
   "cell_type": "markdown",
   "metadata": {},
   "source": [
    "我们尝试以比开盘价稍低一点的价格买入股票。如果这个价格不在当日的股价范围内，则尝试买入失败，没有获利，也没有亏损，我们返回0。否则，我们将以当日收盘价卖出，所获得的利润即买入卖出的差价。"
   ]
  },
  {
   "cell_type": "code",
   "execution_count": 22,
   "metadata": {
    "collapsed": true
   },
   "outputs": [],
   "source": [
    "def calc_profit(op, high, low, close):\n",
    "    # 以开盘价买入,这里不考虑买入多少股\n",
    "    buy = op\n",
    "    \n",
    "    if low < buy < high:\n",
    "        return (close-buy) / buy\n",
    "    else:\n",
    "        return 0"
   ]
  },
  {
   "cell_type": "code",
   "execution_count": 23,
   "metadata": {
    "collapsed": false
   },
   "outputs": [
    {
     "name": "stdout",
     "output_type": "stream",
     "text": [
      "Profits:\n",
      "[ 0.00655139  0.01131437  0.00116464  0.00679832  0.01381543  0.00054148\n",
      " -0.01105862  0.00467747 -0.00714131  0.00459991 -0.00221496 -0.01872699\n",
      "  0.00575141  0.0012513  -0.00374532 -0.02113771  0.00661545 -0.00774693\n",
      " -0.00775281  0.01529918  0.00964047  0.02802081 -0.01656818  0.00068713\n",
      " -0.01083436 -0.00599135 -0.00882682  0.005024    0.00440238  0.00276488]\n"
     ]
    }
   ],
   "source": [
    "# 矢量化一个函数，这样可以避免使用循环\n",
    "func = np.vectorize(calc_profit)\n",
    "profits = func(op, hp, lp, cp)\n",
    "print 'Profits:\\n', profits"
   ]
  },
  {
   "cell_type": "code",
   "execution_count": 24,
   "metadata": {
    "collapsed": false
   },
   "outputs": [
    {
     "name": "stdout",
     "output_type": "stream",
     "text": [
      "Number of trades:\n",
      "30 100.0 %\n",
      "Average profit/loss % : 0.02\n"
     ]
    }
   ],
   "source": [
    "# 我们选择非零利润的交易日并计算平均值\n",
    "real_trades = profits[profits != 0]\n",
    "print 'Number of trades:\\n', len(real_trades), round(100.0 * len(real_trades)/len(cp), 2),\"%\"\n",
    "print \"Average profit/loss % :\", round(np.mean(real_trades) * 100, 2)"
   ]
  },
  {
   "cell_type": "code",
   "execution_count": 25,
   "metadata": {
    "collapsed": false
   },
   "outputs": [
    {
     "name": "stdout",
     "output_type": "stream",
     "text": [
      "Number of winning trades 18 60.0 %\n",
      "Average profit % 0.72\n"
     ]
    }
   ],
   "source": [
    "# 选择正盈利的交易日并计算平均利润\n",
    "winning_trades = profits[profits > 0]\n",
    "print \"Number of winning trades\", len(winning_trades), round(100.0*len(winning_trades)/len(cp),2),\"%\"\n",
    "print \"Average profit %\", round(np.mean(winning_trades) *100, 2)"
   ]
  },
  {
   "cell_type": "code",
   "execution_count": 26,
   "metadata": {
    "collapsed": false
   },
   "outputs": [
    {
     "name": "stdout",
     "output_type": "stream",
     "text": [
      "Number of winning trades 12 40.0 %\n",
      "Average profit % -1.01\n"
     ]
    }
   ],
   "source": [
    "# 选择负盈利的交易日并计算平均损失\n",
    "losing_trades = profits[profits < 0]\n",
    "print \"Number of winning trades\", len(losing_trades), round(100.0*len(losing_trades)/len(cp),2),\"%\"\n",
    "print \"Average profit %\", round(np.mean(losing_trades) *100, 2)"
   ]
  },
  {
   "cell_type": "markdown",
   "metadata": {},
   "source": [
    "##5. 数据平滑\n",
    "噪声数据往往很难处理，我们需要对其进行平滑处理。"
   ]
  },
  {
   "cell_type": "markdown",
   "metadata": {},
   "source": [
    "hanning函数式一个加权余弦的窗函数，我们使用hanning函数平滑股票收益率的数组。\n",
    "\n",
    "离散卷积运算函数convolve的文档[convolve函数文档](http://docs.scipy.org/doc/numpy/reference/generated/numpy.convolve.html#numpy.convolve)"
   ]
  },
  {
   "cell_type": "code",
   "execution_count": 27,
   "metadata": {
    "collapsed": false
   },
   "outputs": [
    {
     "name": "stdout",
     "output_type": "stream",
     "text": [
      "Weights:\n",
      "[ 0.          0.1882551   0.61126047  0.95048443  0.95048443  0.61126047\n",
      "  0.1882551   0.        ]\n"
     ]
    }
   ],
   "source": [
    "# 调用hanning函数计算权重，生成一个长度为N的窗\n",
    "# 这里N为8\n",
    "N = 8\n",
    "weights = np.hanning(N)\n",
    "print \"Weights:\\n\", weights"
   ]
  },
  {
   "cell_type": "code",
   "execution_count": 28,
   "metadata": {
    "collapsed": false
   },
   "outputs": [],
   "source": [
    "# 首先读入两只股票的收盘价，并计算收益率\n",
    "bhp_cp = np.loadtxt('BHP.csv', delimiter=',', usecols=(6,), unpack=True)\n",
    "vale_cp = np.loadtxt('VALE.csv', delimiter=',', usecols=(6,), unpack=True)\n",
    "bhp_returns = np.diff(bhp_cp) / bhp_cp[:-1]\n",
    "vale_returns = np.diff(vale_cp) / vale_cp[:-1]\n",
    "\n",
    "# convolve函数，离散线性卷积运算\n",
    "smooth_bhp = np.convolve(weights/weights.sum(), bhp_returns)[N-1 : -N+1]\n",
    "smooth_vale = np.convolve(weights/weights.sum(), vale_returns)[N-1 : -N+1]"
   ]
  },
  {
   "cell_type": "code",
   "execution_count": 29,
   "metadata": {
    "collapsed": false
   },
   "outputs": [
    {
     "data": {
      "image/png": "[encoded data removed]",
      "text/plain": [
       "<matplotlib.figure.Figure at 0x51022f0>"
      ]
     },
     "metadata": {},
     "output_type": "display_data"
    }
   ],
   "source": [
    "from matplotlib.pyplot import legend\n",
    "\n",
    "t = np.arange(N-1, len(bhp_returns))\n",
    "plot(t, bhp_returns[N-1:], lw=1.0, label='bhp returns')\n",
    "plot(t, smooth_bhp, lw=2.0, label='smooth bhp')\n",
    "plot(t, vale_returns[N-1:], lw=1.0, label='vale returns')\n",
    "plot(t, smooth_vale, lw=2.0, label='smooth vale')\n",
    "legend(loc='best')\n",
    "show()"
   ]
  },
  {
   "cell_type": "markdown",
   "metadata": {},
   "source": [
    "图中折线有交叉，这些**交叉点可能是股价趋势的转折点**，至少可以表明BHP和VALE之间的股价关系发生了变化。这些转折点可能会经常出现，我们可以利用他们预测未来的股价走势。"
   ]
  },
  {
   "cell_type": "code",
   "execution_count": 30,
   "metadata": {
    "collapsed": false
   },
   "outputs": [
    {
     "data": {
      "image/png": "[encoded data removed]",
      "text/plain": [
       "<matplotlib.figure.Figure at 0x4eedaf0>"
      ]
     },
     "metadata": {},
     "output_type": "display_data"
    }
   ],
   "source": [
    "import matplotlib.pyplot as plt\n",
    "\n",
    "# 使用多项式拟合平滑后的数据\n",
    "K = 5\n",
    "t = np.arange(N-1, len(bhp_returns))\n",
    "poly_bhp = np.polyfit(t, smooth_bhp, K)\n",
    "poly_vale = np.polyfit(t, smooth_vale, K)\n",
    "\n",
    "fig = plt.figure()\n",
    "ax1 = fig.add_subplot(211)\n",
    "ax1.plot(t, smooth_bhp, label=\"smooth bhp\")\n",
    "poly_bhp_value = np.polyval(poly_bhp, t)\n",
    "ax1.plot(t, poly_bhp_value, label='poly bhp')\n",
    "plt.legend()\n",
    "\n",
    "ax2 = fig.add_subplot(212)\n",
    "ax2.plot(t, smooth_vale, label=\"smooth vale\")\n",
    "poly_vale_value = np.polyval(poly_vale, t)\n",
    "ax2.plot(t, poly_vale_value, label='poly vale')\n",
    "plt.legend()\n",
    "show()"
   ]
  },
  {
   "cell_type": "code",
   "execution_count": 31,
   "metadata": {
    "collapsed": false
   },
   "outputs": [
    {
     "name": "stdout",
     "output_type": "stream",
     "text": [
      "Intersection points: [ 28.77520493+0.j          25.42365070+0.j          18.03997643+0.j\n",
      "   7.88070929+2.42429295j   7.88070929-2.42429295j]\n"
     ]
    }
   ],
   "source": [
    "# 得到交叉点的x坐标\n",
    "# 通过求多项式函数差，再求根\n",
    "poly_sub = np.polysub(poly_bhp, poly_vale)\n",
    "xpoints = np.roots(poly_sub)\n",
    "print \"Intersection points:\", xpoints"
   ]
  },
  {
   "cell_type": "code",
   "execution_count": 32,
   "metadata": {
    "collapsed": false
   },
   "outputs": [
    {
     "name": "stdout",
     "output_type": "stream",
     "text": [
      "Real number? [ True  True  True False False]\n",
      "Real intersection points: [ 28.77520493  25.4236507   18.03997643   0.           0.        ]\n"
     ]
    }
   ],
   "source": [
    "# 判断是否为实数\n",
    "# select选出实数\n",
    "reals = np.isreal(xpoints)\n",
    "print \"Real number?\",reals\n",
    "\n",
    "xpoints = np.select([reals], [xpoints])\n",
    "xpoints = xpoints.real\n",
    "print \"Real intersection points:\", xpoints"
   ]
  },
  {
   "cell_type": "code",
   "execution_count": 33,
   "metadata": {
    "collapsed": false
   },
   "outputs": [
    {
     "name": "stdout",
     "output_type": "stream",
     "text": [
      "Sans 0s [ 28.77520493  25.4236507   18.03997643]\n"
     ]
    }
   ],
   "source": [
    "# 去除0元素\n",
    "# trim_zeros函数可以去掉一维数组中开头和末尾为0的元素\n",
    "print \"Sans 0s\", np.trim_zeros(xpoints)"
   ]
  },
  {
   "cell_type": "code",
   "execution_count": null,
   "metadata": {
    "collapsed": true
   },
   "outputs": [],
   "source": []
  }
 ],
 "metadata": {
  "kernelspec": {
   "display_name": "Python 2",
   "language": "python",
   "name": "python2"
  },
  "language_info": {
   "codemirror_mode": {
    "name": "ipython",
    "version": 2
   },
   "file_extension": ".py",
   "mimetype": "text/x-python",
   "name": "python",
   "nbconvert_exporter": "python",
   "pygments_lexer": "ipython2",
   "version": "2.7.5"
  }
 },
 "nbformat": 4,
 "nbformat_minor": 0
}
